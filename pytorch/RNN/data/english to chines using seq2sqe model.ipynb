{
 "cells": [
  {
   "cell_type": "markdown",
   "id": "235e888a",
   "metadata": {},
   "source": [
    "# Machine Translation using Sequence to Sequence"
   ]
  },
  {
   "cell_type": "code",
   "execution_count": 1,
   "id": "cfb39c54",
   "metadata": {},
   "outputs": [],
   "source": [
    "# Importing required libraries"
   ]
  },
  {
   "cell_type": "code",
   "execution_count": 2,
   "id": "6cee98f1",
   "metadata": {},
   "outputs": [],
   "source": [
    "import os\n",
    "import re\n",
    "import string\n",
    "import random\n",
    "import numpy as np\n",
    "import pandas as pd\n",
    "import matplotlib.pyplot as plt\n",
    "import seaborn as sns\n",
    "\n",
    "from sklearn.utils import shuffle\n",
    "from sklearn.model_selection import train_test_split\n",
    "import torch\n",
    "import torch.nn as nn"
   ]
  },
  {
   "cell_type": "code",
   "execution_count": 3,
   "id": "805f577a",
   "metadata": {},
   "outputs": [],
   "source": [
    "# readin dataset"
   ]
  },
  {
   "cell_type": "code",
   "execution_count": 4,
   "id": "4d7318a1",
   "metadata": {},
   "outputs": [
    {
     "data": {
      "text/html": [
       "<div>\n",
       "<style scoped>\n",
       "    .dataframe tbody tr th:only-of-type {\n",
       "        vertical-align: middle;\n",
       "    }\n",
       "\n",
       "    .dataframe tbody tr th {\n",
       "        vertical-align: top;\n",
       "    }\n",
       "\n",
       "    .dataframe thead th {\n",
       "        text-align: right;\n",
       "    }\n",
       "</style>\n",
       "<table border=\"1\" class=\"dataframe\">\n",
       "  <thead>\n",
       "    <tr style=\"text-align: right;\">\n",
       "      <th></th>\n",
       "      <th>eng</th>\n",
       "      <th>chin</th>\n",
       "      <th>info</th>\n",
       "    </tr>\n",
       "  </thead>\n",
       "  <tbody>\n",
       "    <tr>\n",
       "      <th>0</th>\n",
       "      <td>Hi.</td>\n",
       "      <td>嗨。</td>\n",
       "      <td>CC-BY 2.0 (France) Attribution: tatoeba.org #5...</td>\n",
       "    </tr>\n",
       "    <tr>\n",
       "      <th>1</th>\n",
       "      <td>Hi.</td>\n",
       "      <td>你好。</td>\n",
       "      <td>CC-BY 2.0 (France) Attribution: tatoeba.org #5...</td>\n",
       "    </tr>\n",
       "    <tr>\n",
       "      <th>2</th>\n",
       "      <td>Run.</td>\n",
       "      <td>你用跑的。</td>\n",
       "      <td>CC-BY 2.0 (France) Attribution: tatoeba.org #4...</td>\n",
       "    </tr>\n",
       "    <tr>\n",
       "      <th>3</th>\n",
       "      <td>Wait!</td>\n",
       "      <td>等等！</td>\n",
       "      <td>CC-BY 2.0 (France) Attribution: tatoeba.org #1...</td>\n",
       "    </tr>\n",
       "    <tr>\n",
       "      <th>4</th>\n",
       "      <td>Wait!</td>\n",
       "      <td>等一下！</td>\n",
       "      <td>CC-BY 2.0 (France) Attribution: tatoeba.org #1...</td>\n",
       "    </tr>\n",
       "  </tbody>\n",
       "</table>\n",
       "</div>"
      ],
      "text/plain": [
       "     eng   chin                                               info\n",
       "0    Hi.     嗨。  CC-BY 2.0 (France) Attribution: tatoeba.org #5...\n",
       "1    Hi.    你好。  CC-BY 2.0 (France) Attribution: tatoeba.org #5...\n",
       "2   Run.  你用跑的。  CC-BY 2.0 (France) Attribution: tatoeba.org #4...\n",
       "3  Wait!    等等！  CC-BY 2.0 (France) Attribution: tatoeba.org #1...\n",
       "4  Wait!   等一下！  CC-BY 2.0 (France) Attribution: tatoeba.org #1..."
      ]
     },
     "execution_count": 4,
     "metadata": {},
     "output_type": "execute_result"
    }
   ],
   "source": [
    "df = pd.read_table(\"./data/cmn.txt\", names=['eng', 'chin', 'info'])\n",
    "df.head()"
   ]
  },
  {
   "cell_type": "code",
   "execution_count": 5,
   "id": "2ad74e15",
   "metadata": {},
   "outputs": [
    {
     "data": {
      "text/plain": [
       "(24026, 3)"
      ]
     },
     "execution_count": 5,
     "metadata": {},
     "output_type": "execute_result"
    }
   ],
   "source": [
    "# getting shape of dataset\n",
    "df.shape"
   ]
  },
  {
   "cell_type": "code",
   "execution_count": 6,
   "id": "c9b52942",
   "metadata": {},
   "outputs": [],
   "source": [
    "# we do not need info so only taking eng and chin features"
   ]
  },
  {
   "cell_type": "code",
   "execution_count": 7,
   "id": "1f15bd75",
   "metadata": {},
   "outputs": [],
   "source": [
    "df = df[[\"eng\", \"chin\"]]"
   ]
  },
  {
   "cell_type": "code",
   "execution_count": 8,
   "id": "095eefe1",
   "metadata": {},
   "outputs": [
    {
     "data": {
      "text/html": [
       "<div>\n",
       "<style scoped>\n",
       "    .dataframe tbody tr th:only-of-type {\n",
       "        vertical-align: middle;\n",
       "    }\n",
       "\n",
       "    .dataframe tbody tr th {\n",
       "        vertical-align: top;\n",
       "    }\n",
       "\n",
       "    .dataframe thead th {\n",
       "        text-align: right;\n",
       "    }\n",
       "</style>\n",
       "<table border=\"1\" class=\"dataframe\">\n",
       "  <thead>\n",
       "    <tr style=\"text-align: right;\">\n",
       "      <th></th>\n",
       "      <th>eng</th>\n",
       "      <th>chin</th>\n",
       "    </tr>\n",
       "  </thead>\n",
       "  <tbody>\n",
       "    <tr>\n",
       "      <th>0</th>\n",
       "      <td>Hi.</td>\n",
       "      <td>嗨。</td>\n",
       "    </tr>\n",
       "    <tr>\n",
       "      <th>1</th>\n",
       "      <td>Hi.</td>\n",
       "      <td>你好。</td>\n",
       "    </tr>\n",
       "    <tr>\n",
       "      <th>2</th>\n",
       "      <td>Run.</td>\n",
       "      <td>你用跑的。</td>\n",
       "    </tr>\n",
       "    <tr>\n",
       "      <th>3</th>\n",
       "      <td>Wait!</td>\n",
       "      <td>等等！</td>\n",
       "    </tr>\n",
       "    <tr>\n",
       "      <th>4</th>\n",
       "      <td>Wait!</td>\n",
       "      <td>等一下！</td>\n",
       "    </tr>\n",
       "  </tbody>\n",
       "</table>\n",
       "</div>"
      ],
      "text/plain": [
       "     eng   chin\n",
       "0    Hi.     嗨。\n",
       "1    Hi.    你好。\n",
       "2   Run.  你用跑的。\n",
       "3  Wait!    等等！\n",
       "4  Wait!   等一下！"
      ]
     },
     "execution_count": 8,
     "metadata": {},
     "output_type": "execute_result"
    }
   ],
   "source": [
    "df.head()"
   ]
  },
  {
   "cell_type": "markdown",
   "id": "e0342636",
   "metadata": {},
   "source": [
    "# Data Preprocessing\n",
    "\n",
    "We are folowing some of the give preprocessing steps:\n",
    "* Removing punctuations like . , ! $( ) * % @\n",
    "* Removing URLs\n",
    "* Removing Stop words\n",
    "* Lower casing\n",
    "* Tokenization\n",
    "* Stemming\n",
    "* Lemmatization"
   ]
  },
  {
   "cell_type": "markdown",
   "id": "bd96bc72",
   "metadata": {},
   "source": [
    "#### Removing Punctuation"
   ]
  },
  {
   "cell_type": "code",
   "execution_count": 9,
   "id": "05da0e62",
   "metadata": {},
   "outputs": [
    {
     "name": "stdout",
     "output_type": "stream",
     "text": [
      "{'{', '=', '@', '/', '`', '|', ';', '!', '#', ')', '*', '~', ',', '&', '?', \"'\", '^', '}', '%', '[', ':', '_', '$', '.', '>', '-', '\"', '+', ']', '\\\\', '(', '<'}\n"
     ]
    }
   ],
   "source": [
    "# getting punctuation form string\n",
    "set_of_punctuation = set(string.punctuation)\n",
    "print(set_of_punctuation)"
   ]
  },
  {
   "cell_type": "code",
   "execution_count": 10,
   "id": "b93a4483",
   "metadata": {},
   "outputs": [],
   "source": [
    "# define a function to remove punctuation form whole dataset\n",
    "def remove_punctuation(text):\n",
    "    punctuation_free_text = ''.join([char for char in text if char not in set_of_punctuation])\n",
    "    return punctuation_free_text"
   ]
  },
  {
   "cell_type": "code",
   "execution_count": 11,
   "id": "d2c28a68",
   "metadata": {},
   "outputs": [
    {
     "data": {
      "text/plain": [
       "0      Hi\n",
       "1      Hi\n",
       "2     Run\n",
       "3    Wait\n",
       "4    Wait\n",
       "Name: eng, dtype: object"
      ]
     },
     "execution_count": 11,
     "metadata": {},
     "output_type": "execute_result"
    }
   ],
   "source": [
    "#example\n",
    "temp = df[\"eng\"].apply(lambda x: remove_punctuation(x))\n",
    "temp.head()"
   ]
  },
  {
   "cell_type": "markdown",
   "id": "1a7984d2",
   "metadata": {},
   "source": [
    "#### Removing Uneven Spaces"
   ]
  },
  {
   "cell_type": "code",
   "execution_count": 12,
   "id": "03971cc2",
   "metadata": {},
   "outputs": [],
   "source": [
    "# define a function to remove uneven spaces form text\n",
    "def remove_uneven_spaces(text):\n",
    "    uneven_space_free = re.sub(r\"\\s+\", ' ', text.strip())\n",
    "    return uneven_space_free"
   ]
  },
  {
   "cell_type": "code",
   "execution_count": 13,
   "id": "be865af6",
   "metadata": {},
   "outputs": [
    {
     "data": {
      "text/plain": [
       "0    This is an example text with uneven spaces.\n",
       "1    This is an example text with uneven spaces.\n",
       "2    This is an example text with uneven spaces.\n",
       "3    This is an example text with uneven spaces.\n",
       "4    This is an example text with uneven spaces.\n",
       "Name: eng, dtype: object"
      ]
     },
     "execution_count": 13,
     "metadata": {},
     "output_type": "execute_result"
    }
   ],
   "source": [
    "# example\n",
    "text = \"  This  is   an example    text   with uneven   spaces.  \"\n",
    "result = df[\"eng\"].apply(lambda x: remove_uneven_spaces(text))\n",
    "result.head()"
   ]
  },
  {
   "cell_type": "markdown",
   "id": "c6e018af",
   "metadata": {},
   "source": [
    "#### Lower casing"
   ]
  },
  {
   "cell_type": "code",
   "execution_count": 14,
   "id": "bba9ae2b",
   "metadata": {},
   "outputs": [],
   "source": [
    "# define a functio to convert text into lower case\n",
    "def convert_lowercase(text):\n",
    "    return text.lower()"
   ]
  },
  {
   "cell_type": "code",
   "execution_count": 15,
   "id": "43258fd6",
   "metadata": {},
   "outputs": [],
   "source": [
    "# example\n",
    "text = \"My Name \""
   ]
  },
  {
   "cell_type": "code",
   "execution_count": 19,
   "id": "80aaaff0",
   "metadata": {},
   "outputs": [],
   "source": [
    "# Implementing all process for dataset"
   ]
  },
  {
   "cell_type": "code",
   "execution_count": 21,
   "id": "12fb96b6",
   "metadata": {},
   "outputs": [],
   "source": [
    "df[\"eng\"] = df[\"eng\"].apply(lambda x: convert_lowercase(x))\n",
    "df[\"chin\"] = df[\"chin\"].apply(lambda x: convert_lowercase(x))\n",
    "\n",
    "df[\"eng\"] = df[\"eng\"].apply(lambda x: remove_punctuation(x))\n",
    "df[\"chin\"] = df[\"chin\"].apply(lambda x: remove_punctuation(x))\n",
    "\n",
    "df[\"eng\"] = df[\"eng\"].apply(lambda x: remove_uneven_spaces(x))\n",
    "df[\"chin\"] = df[\"chin\"].apply(lambda x: remove_uneven_spaces(x))"
   ]
  },
  {
   "cell_type": "markdown",
   "id": "d0fa16c1",
   "metadata": {},
   "source": [
    "#### Tokenization\n",
    "\n",
    "Tokenizing the English and the Chinese words in to set all_english_vocabs and all_chinese_vocabs."
   ]
  },
  {
   "cell_type": "code",
   "execution_count": 24,
   "id": "3aa797b6",
   "metadata": {},
   "outputs": [],
   "source": [
    "all_english_vocabs = set()\n",
    "for english in df[\"eng\"]:\n",
    "    words = english.split()\n",
    "    for word in words:\n",
    "        if word not in all_english_vocabs:\n",
    "            all_english_vocabs.add(word)"
   ]
  },
  {
   "cell_type": "code",
   "execution_count": 26,
   "id": "d322c0d3",
   "metadata": {},
   "outputs": [],
   "source": [
    "all_chinese_vocabs = set()\n",
    "for chinese in df[\"chin\"]:\n",
    "    words = chinese.split()\n",
    "    for word in words:\n",
    "        if word not in all_chinese_vocabs:\n",
    "            all_chinese_vocabs.add(word)"
   ]
  },
  {
   "cell_type": "markdown",
   "id": "e2df5bcd",
   "metadata": {},
   "source": [
    "# Model Building\n",
    "\n",
    "Here, we are going to build encoder and decoder models seperatly and ensembel them to form seq2seq model\n"
   ]
  },
  {
   "cell_type": "markdown",
   "id": "0ad13900",
   "metadata": {},
   "source": [
    "#### Building Encoder"
   ]
  },
  {
   "cell_type": "code",
   "execution_count": 28,
   "id": "06d19d18",
   "metadata": {},
   "outputs": [],
   "source": [
    "class Encoder(nn.Module):\n",
    "    def __init__(self, input_size, embedding_size, hidden_size, num_layers, dropout_p):\n",
    "        super(Encoder, self).__init__()\n",
    "        \n",
    "        self.hidden_dim = hidden_size\n",
    "        self.num_layers = num_layers\n",
    "        \n",
    "        self.embedding = nn.Embedding(input_size, embedding_size)\n",
    "        self.dropout = nn.Dropout(dropout_p)\n",
    "        self.lstm = nn.LSTM(embedding_size, hidden_size, num_layers, dropout=dropout_p)\n",
    "        \n",
    "    \n",
    "    def forward(self, x):\n",
    "        # x.shape : (x.length, batch_size)\n",
    "        embedding = self.dropout(self.embedding(x))\n",
    "        # embedding : (x.length, batch_size, embed_dim)\n",
    "        \n",
    "        output, (hidden, cell)= self.lstm(embedding)\n",
    "        return hidden, cell"
   ]
  },
  {
   "cell_type": "markdown",
   "id": "25b475a5",
   "metadata": {},
   "source": [
    "#### Building Decoder"
   ]
  },
  {
   "cell_type": "code",
   "execution_count": 29,
   "id": "61097223",
   "metadata": {},
   "outputs": [],
   "source": [
    "class Decoder(nn.Module):\n",
    "    def __init__(self, input_size, hidden_size, embeddig_size, output_size, num_layers, dropout_p):\n",
    "        super(Decoder, self).__init__()\n",
    "        \n",
    "        self.hidden_dim = hidden_size\n",
    "        self.input_dim = input_size\n",
    "        \n",
    "        self.embedding = nn.Embedding(input_size, embedding_size)\n",
    "        self.dropout = nn.Dropout(dropout_p)\n",
    "        self.lstm = nn.LSTM(embedding_size, hidden_size, num_layers, dropout=dropout_p)\n",
    "        self.fc = nn.Linear(hidden_size, output_size)\n",
    "    \n",
    "    def forward(self, x,hidden, cell):\n",
    "        # input = [batch size]\n",
    "        x = x.unsqueeze(0)\n",
    "        # x: [1, batch_size]\n",
    "        \n",
    "        embedding = self.dropout(self.embedding(x))\n",
    "        #embedded = [1, batch size, emb dim]\n",
    "        \n",
    "        output, (hidden, cell) = self.lsmt(embedding)\n",
    "        # output : [1, batch_size, hidden_size]\n",
    "        \n",
    "        prediction = self.fc(output)\n",
    "        # predction: [1, N, batch_size, length_of_vocab]\n",
    "        \n",
    "        prediction = prediction.squeeze(0)\n",
    "        \n",
    "        return prediction, hidden, cell"
   ]
  },
  {
   "cell_type": "markdown",
   "id": "302d2bff",
   "metadata": {},
   "source": [
    "#### Building Seq2Seq model"
   ]
  },
  {
   "cell_type": "code",
   "execution_count": 18,
   "id": "f054f583",
   "metadata": {},
   "outputs": [],
   "source": [
    "class Seq2SeqNet(nn.Module):\n",
    "    def __init__(self):\n",
    "        pass\n",
    "    \n",
    "    def forward(self, x):\n",
    "        pass"
   ]
  },
  {
   "cell_type": "markdown",
   "id": "2341cdc7",
   "metadata": {},
   "source": [
    "# Training Model"
   ]
  },
  {
   "cell_type": "code",
   "execution_count": null,
   "id": "4862f0d8",
   "metadata": {},
   "outputs": [],
   "source": []
  }
 ],
 "metadata": {
  "kernelspec": {
   "display_name": "Python 3 (ipykernel)",
   "language": "python",
   "name": "python3"
  },
  "language_info": {
   "codemirror_mode": {
    "name": "ipython",
    "version": 3
   },
   "file_extension": ".py",
   "mimetype": "text/x-python",
   "name": "python",
   "nbconvert_exporter": "python",
   "pygments_lexer": "ipython3",
   "version": "3.11.0"
  }
 },
 "nbformat": 4,
 "nbformat_minor": 5
}
