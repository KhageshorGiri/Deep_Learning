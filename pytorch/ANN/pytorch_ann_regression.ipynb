{
 "cells": [
  {
   "cell_type": "code",
   "execution_count": 1,
   "id": "e9d681e6",
   "metadata": {},
   "outputs": [],
   "source": [
    "# Importing reqired libraries"
   ]
  },
  {
   "cell_type": "code",
   "execution_count": 2,
   "id": "8e3c3973",
   "metadata": {},
   "outputs": [],
   "source": [
    "import numpy as np\n",
    "import torch\n",
    "import torch.nn as nn"
   ]
  },
  {
   "cell_type": "code",
   "execution_count": 39,
   "id": "cd624a9f",
   "metadata": {},
   "outputs": [],
   "source": [
    "import warnings\n",
    "\n",
    "# Remove all warnings\n",
    "warnings.filterwarnings(\"ignore\")"
   ]
  },
  {
   "cell_type": "code",
   "execution_count": 13,
   "id": "2eafacf0",
   "metadata": {},
   "outputs": [],
   "source": [
    "# Creating a Simple Neural Network Architectuer for linear regression problem"
   ]
  },
  {
   "cell_type": "code",
   "execution_count": 57,
   "id": "95c89392",
   "metadata": {},
   "outputs": [],
   "source": [
    "class ANNnet(nn.Module):\n",
    "    def __init__(self, input_size, hidden_1_shape, hidden_2_shape, hidden_3_shape, output_size):\n",
    "        super(ANNnet, self).__init__()\n",
    "        \n",
    "        # Initilization weights and biases\n",
    "        self.weight_hidden_1 = nn.init.xavier_uniform(torch.empty(input_size, hidden_1_shape, requires_grad=True))\n",
    "        self.bias_hidden_1 = torch.empty(hidden_1_shape, requires_grad=True)\n",
    "        \n",
    "        self.weight_hidden_2 = nn.init.xavier_uniform(torch.empty(hidden_1_shape, hidden_2_shape, requires_grad=True))\n",
    "        self.bias_hidden_2 = torch.empty(hidden_2_shape, requires_grad=True)\n",
    "        \n",
    "        self.weight_hidden_3 = nn.init.xavier_uniform(torch.empty(hidden_2_shape, hidden_3_shape, requires_grad=True))\n",
    "        self.bias_hidden_3 = torch.empty(hidden_3_shape, requires_grad=True)\n",
    "                \n",
    "        self.weight_output = nn.init.xavier_uniform(torch.empty(hidden_3_shape, output_size, requires_grad=True))\n",
    "        self.bias_output = torch.empty(output_size, requires_grad=True)\n",
    "        \n",
    "        # define layers\n",
    "        self.first_hidden_layer = None\n",
    "        self.second_hidden_layer = None\n",
    "        self.third_hidden_layer = None\n",
    "        self.final_output = None\n",
    "        \n",
    "                                                             \n",
    "    def forward(self, x):\n",
    "        # calculating for first hidden layer\n",
    "        self.first_hidden_layer = torch.matmul(x, self.weight_hidden_1) + self.bias_hidden_1\n",
    "        activation_first_hidden_layer = torch.relu(self.first_hidden_layer)\n",
    "        \n",
    "        # calculating for first hidden layer\n",
    "        self.second_hidden_layer = torch.matmul(activation_first_hidden_layer, self.weight_hidden_2) + self.bias_hidden_2\n",
    "        activation_second_hidden_layer = torch.relu(self.second_hidden_layer)\n",
    "        \n",
    "        # calculating for first hidden layer\n",
    "        self.third_hidden_layer = torch.matmul(activation_second_hidden_layer, self.weight_hidden_3) + self.bias_hidden_3\n",
    "        activation_third_hidden_layer = torch.relu(self.third_hidden_layer)\n",
    "        \n",
    "        # calculating for first hidden layer\n",
    "        self.final_output = torch.matmul(activation_third_hidden_layer, self.weight_output) + self.bias_output\n",
    "        \n",
    "        return self.final_output\n",
    "    "
   ]
  },
  {
   "cell_type": "code",
   "execution_count": 21,
   "id": "10aae08f",
   "metadata": {},
   "outputs": [],
   "source": [
    "# Hyperparameters\n",
    "input_size = 3\n",
    "hidden_1 = 8\n",
    "hidden_2 = 5\n",
    "hidden_3 = 5\n",
    "output_size = 1\n",
    "learning_rate = 0.01\n",
    "num_epochs = 10\n",
    "batch_size = 64"
   ]
  },
  {
   "cell_type": "code",
   "execution_count": 22,
   "id": "6fbf0af6",
   "metadata": {},
   "outputs": [],
   "source": [
    "# Creating a model instance"
   ]
  },
  {
   "cell_type": "code",
   "execution_count": 58,
   "id": "1f169f2f",
   "metadata": {},
   "outputs": [],
   "source": [
    "model = ANNnet(\n",
    "    input_size = input_size,\n",
    "    hidden_1_shape = hidden_1, \n",
    "    hidden_2_shape = hidden_2,\n",
    "    hidden_3_shape = hidden_3,\n",
    "    output_size = output_size\n",
    ")"
   ]
  },
  {
   "cell_type": "code",
   "execution_count": null,
   "id": "f3b1faf9",
   "metadata": {},
   "outputs": [],
   "source": []
  }
 ],
 "metadata": {
  "kernelspec": {
   "display_name": "Python 3 (ipykernel)",
   "language": "python",
   "name": "python3"
  },
  "language_info": {
   "codemirror_mode": {
    "name": "ipython",
    "version": 3
   },
   "file_extension": ".py",
   "mimetype": "text/x-python",
   "name": "python",
   "nbconvert_exporter": "python",
   "pygments_lexer": "ipython3",
   "version": "3.11.0"
  }
 },
 "nbformat": 4,
 "nbformat_minor": 5
}
