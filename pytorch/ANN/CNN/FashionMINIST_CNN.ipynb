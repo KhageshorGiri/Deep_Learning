{
 "cells": [
  {
   "cell_type": "code",
   "execution_count": 21,
   "id": "db30b1e2",
   "metadata": {},
   "outputs": [],
   "source": [
    "# Importing all required libraries"
   ]
  },
  {
   "cell_type": "code",
   "execution_count": 22,
   "id": "837383bd",
   "metadata": {},
   "outputs": [],
   "source": [
    "import matplotlib.pyplot as plt\n",
    "import numpy as np\n",
    "\n",
    "import torch\n",
    "import torchvision\n",
    "import torchvision.transforms as transforms\n",
    "import torch.nn as nn\n",
    "import torch.nn.functional as F"
   ]
  },
  {
   "cell_type": "code",
   "execution_count": 23,
   "id": "a8516dec",
   "metadata": {},
   "outputs": [],
   "source": [
    "# Set device"
   ]
  },
  {
   "cell_type": "code",
   "execution_count": 4,
   "id": "7992796c",
   "metadata": {},
   "outputs": [
    {
     "data": {
      "text/plain": [
       "'cpu'"
      ]
     },
     "execution_count": 4,
     "metadata": {},
     "output_type": "execute_result"
    }
   ],
   "source": [
    "device = 'cuda' if torch.cuda.is_available() else 'cpu'\n",
    "device"
   ]
  },
  {
   "cell_type": "code",
   "execution_count": 24,
   "id": "f9e2e361",
   "metadata": {},
   "outputs": [],
   "source": [
    "# Downloading dataset"
   ]
  },
  {
   "cell_type": "code",
   "execution_count": 5,
   "id": "9d418768",
   "metadata": {},
   "outputs": [
    {
     "name": "stdout",
     "output_type": "stream",
     "text": [
      "Downloading http://fashion-mnist.s3-website.eu-central-1.amazonaws.com/train-images-idx3-ubyte.gz\n",
      "Downloading http://fashion-mnist.s3-website.eu-central-1.amazonaws.com/train-images-idx3-ubyte.gz to ./data\\FashionMNIST\\raw\\train-images-idx3-ubyte.gz\n"
     ]
    },
    {
     "name": "stderr",
     "output_type": "stream",
     "text": [
      "100%|█████████████████████████████████████████████████████████████████| 26421880/26421880 [00:06<00:00, 3955086.63it/s]\n"
     ]
    },
    {
     "name": "stdout",
     "output_type": "stream",
     "text": [
      "Extracting ./data\\FashionMNIST\\raw\\train-images-idx3-ubyte.gz to ./data\\FashionMNIST\\raw\n",
      "\n",
      "Downloading http://fashion-mnist.s3-website.eu-central-1.amazonaws.com/train-labels-idx1-ubyte.gz\n",
      "Downloading http://fashion-mnist.s3-website.eu-central-1.amazonaws.com/train-labels-idx1-ubyte.gz to ./data\\FashionMNIST\\raw\\train-labels-idx1-ubyte.gz\n"
     ]
    },
    {
     "name": "stderr",
     "output_type": "stream",
     "text": [
      "100%|████████████████████████████████████████████████████████████████████████| 29515/29515 [00:00<00:00, 151866.31it/s]\n"
     ]
    },
    {
     "name": "stdout",
     "output_type": "stream",
     "text": [
      "Extracting ./data\\FashionMNIST\\raw\\train-labels-idx1-ubyte.gz to ./data\\FashionMNIST\\raw\n",
      "\n",
      "Downloading http://fashion-mnist.s3-website.eu-central-1.amazonaws.com/t10k-images-idx3-ubyte.gz\n",
      "Downloading http://fashion-mnist.s3-website.eu-central-1.amazonaws.com/t10k-images-idx3-ubyte.gz to ./data\\FashionMNIST\\raw\\t10k-images-idx3-ubyte.gz\n"
     ]
    },
    {
     "name": "stderr",
     "output_type": "stream",
     "text": [
      "100%|███████████████████████████████████████████████████████████████████| 4422102/4422102 [00:01<00:00, 3052870.78it/s]\n"
     ]
    },
    {
     "name": "stdout",
     "output_type": "stream",
     "text": [
      "Extracting ./data\\FashionMNIST\\raw\\t10k-images-idx3-ubyte.gz to ./data\\FashionMNIST\\raw\n",
      "\n",
      "Downloading http://fashion-mnist.s3-website.eu-central-1.amazonaws.com/t10k-labels-idx1-ubyte.gz\n",
      "Downloading http://fashion-mnist.s3-website.eu-central-1.amazonaws.com/t10k-labels-idx1-ubyte.gz to ./data\\FashionMNIST\\raw\\t10k-labels-idx1-ubyte.gz\n"
     ]
    },
    {
     "name": "stderr",
     "output_type": "stream",
     "text": [
      "100%|█████████████████████████████████████████████████████████████████████████| 5148/5148 [00:00<00:00, 2037583.94it/s]"
     ]
    },
    {
     "name": "stdout",
     "output_type": "stream",
     "text": [
      "Extracting ./data\\FashionMNIST\\raw\\t10k-labels-idx1-ubyte.gz to ./data\\FashionMNIST\\raw\n",
      "\n"
     ]
    },
    {
     "name": "stderr",
     "output_type": "stream",
     "text": [
      "\n"
     ]
    }
   ],
   "source": [
    "transform = transforms.ToTensor()\n",
    "\n",
    "batch_size = 8\n",
    "\n",
    "trainset = torchvision.datasets.FashionMNIST(root='./data', train=True,\n",
    "                                        download=True, transform=transform)\n",
    "\n",
    "\n",
    "testset = torchvision.datasets.FashionMNIST(root='./data', train=False,\n",
    "                                       download=True, transform=transform)\n",
    "\n",
    "classes = ('T-shirt/top', 'Trouser/pants','Pullover shirt','Dress','Coat','Sandal',\n",
    "           'Shirt','Sneaker','Bag','Ankle boot')"
   ]
  },
  {
   "cell_type": "code",
   "execution_count": 25,
   "id": "d7c9f301",
   "metadata": {},
   "outputs": [],
   "source": [
    "# check the shape and label of dataset"
   ]
  },
  {
   "cell_type": "code",
   "execution_count": 10,
   "id": "3697f7af",
   "metadata": {},
   "outputs": [
    {
     "data": {
      "text/plain": [
       "(torch.Size([1, 28, 28]), 9)"
      ]
     },
     "execution_count": 10,
     "metadata": {},
     "output_type": "execute_result"
    }
   ],
   "source": [
    "train_iter = iter(trainset)\n",
    "\n",
    "image, label = next(train_iter)\n",
    "\n",
    "image.shape, label"
   ]
  },
  {
   "cell_type": "code",
   "execution_count": 26,
   "id": "98b7dfee",
   "metadata": {},
   "outputs": [],
   "source": [
    "# find the min and max color intensity of pixel in image"
   ]
  },
  {
   "cell_type": "code",
   "execution_count": 8,
   "id": "3d73c1bf",
   "metadata": {},
   "outputs": [
    {
     "data": {
      "text/plain": [
       "(0.0, 1.0)"
      ]
     },
     "execution_count": 8,
     "metadata": {},
     "output_type": "execute_result"
    }
   ],
   "source": [
    "torch.min(image).item(), torch.max(image).item()"
   ]
  },
  {
   "cell_type": "code",
   "execution_count": 27,
   "id": "4fb87033",
   "metadata": {},
   "outputs": [],
   "source": [
    "# plot a image"
   ]
  },
  {
   "cell_type": "code",
   "execution_count": 14,
   "id": "b013fc7f",
   "metadata": {
    "scrolled": true
   },
   "outputs": [
    {
     "name": "stdout",
     "output_type": "stream",
     "text": [
      "Ankle boot\n"
     ]
    },
    {
     "data": {
      "text/plain": [
       "<matplotlib.image.AxesImage at 0x1b830e55150>"
      ]
     },
     "execution_count": 14,
     "metadata": {},
     "output_type": "execute_result"
    },
    {
     "data": {
      "image/png": "[encoded data removed]",
      "text/plain": [
       "<Figure size 640x480 with 1 Axes>"
      ]
     },
     "metadata": {},
     "output_type": "display_data"
    }
   ],
   "source": [
    "np_img = image.numpy()\n",
    "print(classes[label])\n",
    "plt.imshow(np_img.reshape((28, 28, 1)))"
   ]
  },
  {
   "cell_type": "code",
   "execution_count": 28,
   "id": "bdaa7fef",
   "metadata": {},
   "outputs": [
    {
     "data": {
      "text/plain": [
       "(50000, 10000)"
      ]
     },
     "execution_count": 28,
     "metadata": {},
     "output_type": "execute_result"
    }
   ],
   "source": [
    "# find size of training and test dataset\n",
    "\n",
    "len(trainset), len(testset)"
   ]
  },
  {
   "cell_type": "code",
   "execution_count": 29,
   "id": "09baed8f",
   "metadata": {},
   "outputs": [],
   "source": [
    "# train test split"
   ]
  },
  {
   "cell_type": "code",
   "execution_count": 16,
   "id": "57c94fe6",
   "metadata": {},
   "outputs": [
    {
     "data": {
      "text/plain": [
       "(50000, 10000, 10000)"
      ]
     },
     "execution_count": 16,
     "metadata": {},
     "output_type": "execute_result"
    }
   ],
   "source": [
    "trainset, valset = torch.utils.data.random_split(trainset, [50000, 10000])\n",
    "len(trainset), len(valset), len(testset)"
   ]
  },
  {
   "cell_type": "code",
   "execution_count": 17,
   "id": "3fee0bf4",
   "metadata": {},
   "outputs": [
    {
     "name": "stdout",
     "output_type": "stream",
     "text": [
      "Number of batches in the training set: 6250\n"
     ]
    }
   ],
   "source": [
    "print(f'Number of batches in the training set: {int(50000 / batch_size)}')"
   ]
  },
  {
   "cell_type": "code",
   "execution_count": 18,
   "id": "207015c1",
   "metadata": {},
   "outputs": [
    {
     "name": "stdout",
     "output_type": "stream",
     "text": [
      "Number of batches in the validation set: 1250\n"
     ]
    }
   ],
   "source": [
    "print(f'Number of batches in the validation set: {int(10000 / batch_size)}')"
   ]
  },
  {
   "cell_type": "code",
   "execution_count": 19,
   "id": "799fc267",
   "metadata": {},
   "outputs": [
    {
     "data": {
      "text/plain": [
       "torch.utils.data.dataset.Subset"
      ]
     },
     "execution_count": 19,
     "metadata": {},
     "output_type": "execute_result"
    }
   ],
   "source": [
    "type(trainset)"
   ]
  },
  {
   "cell_type": "code",
   "execution_count": 30,
   "id": "849f839b",
   "metadata": {},
   "outputs": [],
   "source": [
    "# load dataset for model"
   ]
  },
  {
   "cell_type": "code",
   "execution_count": 20,
   "id": "e37ed1d5",
   "metadata": {},
   "outputs": [],
   "source": [
    "trainloader = torch.utils.data.DataLoader(trainset, batch_size=batch_size,\n",
    "                                          shuffle=True, num_workers=2)\n",
    "\n",
    "valloader = torch.utils.data.DataLoader(valset, batch_size=batch_size,\n",
    "                                          shuffle=False, num_workers=2)\n",
    "\n",
    "testloader = torch.utils.data.DataLoader(testset, batch_size=batch_size,\n",
    "                                         shuffle=False, num_workers=2)"
   ]
  },
  {
   "cell_type": "code",
   "execution_count": 31,
   "id": "377947b2",
   "metadata": {},
   "outputs": [],
   "source": [
    "# Model Building"
   ]
  },
  {
   "cell_type": "code",
   "execution_count": 53,
   "id": "944b00df",
   "metadata": {},
   "outputs": [],
   "source": [
    "class CNNNet(nn.Module):\n",
    "    def __init__(self):\n",
    "        super(CNNNet, self).__init__()\n",
    "        \n",
    "        #Conv layers structures\n",
    "        # conv2d\n",
    "        #BatchNormalization\n",
    "        #plooing\n",
    "        #dropout\n",
    "        \n",
    "        # first layer\n",
    "        self.conv1 = nn.Conv2d(in_channels=1, out_channels=256, kernel_size=3)\n",
    "        self.batch_norm1 = nn.BatchNorm2d(256)\n",
    "        self.pool1 = nn.MaxPool2d(2,2)\n",
    "        \n",
    "        #second layer\n",
    "        self.conv2 = nn.Conv2d(in_channels=256, out_channels=512, kernel_size=3)\n",
    "        self.batch_norm2 = nn.BatchNorm2d(512)\n",
    "        self.pool2 = nn.MaxPool2d(2,2)\n",
    "        self.drop2 = nn.Dropout(0.3)\n",
    "        \n",
    "        # third layer\n",
    "        self.conv3 = nn.Conv2d(in_channels=512, out_channels=512, kernel_size=3)\n",
    "        self.batch_norm3 = nn.BatchNorm2d(512)\n",
    "        self.pool3 = nn.MaxPool2d(2,2)\n",
    "        \n",
    "        # flatten\n",
    "        self.flatten = nn.Flatten()\n",
    "        \n",
    "        # Dense layres\n",
    "        self.fc1 = nn.Linear(in_features=512, out_features=228)\n",
    "        self.fc1_drop = nn.Dropout(p=0.2)\n",
    "        \n",
    "        self.out = nn.Linear(in_features=228, out_features=10)\n",
    "        \n",
    "    def forward(self, x):\n",
    "        \n",
    "        #pass throught first step\n",
    "        x = F.relu(self.conv1(x))\n",
    "        x = self.batch_norm1(x)\n",
    "        x = self.pool1(x)\n",
    "        \n",
    "        #second step\n",
    "        x = F.relu(self.conv2(x))\n",
    "        x = self.batch_norm2(x)\n",
    "        x = self.pool2(x)\n",
    "        x = self.drop2(x)\n",
    "        \n",
    "        #third step\n",
    "        x = F.relu(self.conv3(x))\n",
    "        x = self.batch_norm3(x)\n",
    "        x = self.pool3(x)\n",
    "        \n",
    "        #pass through flatten\n",
    "        x = self.flatten(x)\n",
    "        \n",
    "        # moves to first fully connected layer\n",
    "        x = F.relu(self.fc1(x))\n",
    "        x = self.fc1_drop(x)\n",
    "        \n",
    "        #final output\n",
    "        x = self.out(x)\n",
    "        \n",
    "        return x"
   ]
  },
  {
   "cell_type": "code",
   "execution_count": 54,
   "id": "94e07c70",
   "metadata": {},
   "outputs": [],
   "source": [
    "# model initilization"
   ]
  },
  {
   "cell_type": "code",
   "execution_count": 55,
   "id": "728b09b8",
   "metadata": {},
   "outputs": [
    {
     "data": {
      "text/plain": [
       "CNNNet(\n",
       "  (conv1): Conv2d(1, 256, kernel_size=(3, 3), stride=(1, 1))\n",
       "  (batch_norm1): BatchNorm2d(256, eps=1e-05, momentum=0.1, affine=True, track_running_stats=True)\n",
       "  (pool1): MaxPool2d(kernel_size=2, stride=2, padding=0, dilation=1, ceil_mode=False)\n",
       "  (conv2): Conv2d(256, 512, kernel_size=(3, 3), stride=(1, 1))\n",
       "  (batch_norm2): BatchNorm2d(512, eps=1e-05, momentum=0.1, affine=True, track_running_stats=True)\n",
       "  (pool2): MaxPool2d(kernel_size=2, stride=2, padding=0, dilation=1, ceil_mode=False)\n",
       "  (drop2): Dropout(p=0.3, inplace=False)\n",
       "  (conv3): Conv2d(512, 512, kernel_size=(3, 3), stride=(1, 1))\n",
       "  (batch_norm3): BatchNorm2d(512, eps=1e-05, momentum=0.1, affine=True, track_running_stats=True)\n",
       "  (pool3): MaxPool2d(kernel_size=2, stride=2, padding=0, dilation=1, ceil_mode=False)\n",
       "  (flatten): Flatten(start_dim=1, end_dim=-1)\n",
       "  (fc1): Linear(in_features=512, out_features=228, bias=True)\n",
       "  (fc1_drop): Dropout(p=0.2, inplace=False)\n",
       "  (out): Linear(in_features=228, out_features=10, bias=True)\n",
       ")"
      ]
     },
     "execution_count": 55,
     "metadata": {},
     "output_type": "execute_result"
    }
   ],
   "source": [
    "cnn_net = CNNNet()\n",
    "cnn_net.to(device)"
   ]
  },
  {
   "cell_type": "code",
   "execution_count": 56,
   "id": "399e3216",
   "metadata": {},
   "outputs": [
    {
     "name": "stdout",
     "output_type": "stream",
     "text": [
      "Number of parameters in the model: 3,664,342\n"
     ]
    }
   ],
   "source": [
    "num_params = 0\n",
    "for x in cnn_net.parameters():\n",
    "    num_params += len(torch.flatten(x))\n",
    "\n",
    "print(f'Number of parameters in the model: {num_params:,}')"
   ]
  },
  {
   "cell_type": "code",
   "execution_count": 57,
   "id": "ac07257a",
   "metadata": {},
   "outputs": [
    {
     "name": "stdout",
     "output_type": "stream",
     "text": [
      "input shape: torch.Size([8, 1, 28, 28])\n",
      "after network shape: torch.Size([8, 10])\n"
     ]
    }
   ],
   "source": [
    "for i, data in enumerate(trainloader):\n",
    "    inputs, labels = data[0].to(device), data[1].to(device)\n",
    "    print(f'input shape: {inputs.shape}')\n",
    "    print(f'after network shape: {cnn_net(inputs).shape}')\n",
    "    break"
   ]
  },
  {
   "cell_type": "code",
   "execution_count": null,
   "id": "ff450e72",
   "metadata": {},
   "outputs": [],
   "source": []
  },
  {
   "cell_type": "code",
   "execution_count": null,
   "id": "fcc5c7d5",
   "metadata": {},
   "outputs": [],
   "source": []
  }
 ],
 "metadata": {
  "kernelspec": {
   "display_name": "Python 3 (ipykernel)",
   "language": "python",
   "name": "python3"
  },
  "language_info": {
   "codemirror_mode": {
    "name": "ipython",
    "version": 3
   },
   "file_extension": ".py",
   "mimetype": "text/x-python",
   "name": "python",
   "nbconvert_exporter": "python",
   "pygments_lexer": "ipython3",
   "version": "3.11.0"
  }
 },
 "nbformat": 4,
 "nbformat_minor": 5
}
